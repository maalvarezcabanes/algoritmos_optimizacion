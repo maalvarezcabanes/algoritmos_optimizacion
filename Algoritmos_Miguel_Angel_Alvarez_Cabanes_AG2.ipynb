{
 "cells": [
  {
   "cell_type": "markdown",
   "metadata": {
    "id": "C4zOnRumto2-"
   },
   "source": [
    "# Actividad Guiada 2\n",
    "## Autor\n",
    "Miguel Ángel Álvarez Cabanes\n",
    "## Github\n",
    "https://github.com/maalvarezcabanes/algoritmos_optimizacion"
   ]
  },
  {
   "cell_type": "markdown",
   "metadata": {},
   "source": [
    "## Importación paquetes y funciones auxiliares"
   ]
  },
  {
   "cell_type": "code",
   "execution_count": 9,
   "metadata": {
    "tags": []
   },
   "outputs": [],
   "source": [
    "import math\n",
    "import random\n",
    "import time\n",
    "import numpy as np\n",
    "import pandas as pd\n",
    "import sympy\n",
    "import matplotlib.pyplot as plt\n",
    "%matplotlib inline"
   ]
  },
  {
   "cell_type": "code",
   "execution_count": 10,
   "metadata": {
    "tags": []
   },
   "outputs": [],
   "source": [
    "def clean_plot(ax, xlabel, ylabel, title, legend = True, rotate = 45):\n",
    "    ax.spines.right.set_visible(False)\n",
    "    ax.spines.top.set_visible(False)\n",
    "    ax.set_xlabel(xlabel)\n",
    "    ax.set_ylabel(ylabel)\n",
    "    ax.set_title(title)\n",
    "    if legend:\n",
    "        ax.legend(bbox_to_anchor=(1.2, 1))\n",
    "    if rotate:\n",
    "        ax.tick_params(axis='x', labelrotation = rotate)"
   ]
  },
  {
   "cell_type": "code",
   "execution_count": 30,
   "metadata": {
    "tags": []
   },
   "outputs": [],
   "source": [
    "# Realiza el descenso de gradiente dada una expresión del gradiente\n",
    "def descenso_de_gradiente(grad_f, x0, gamma, tol, maxit):\n",
    "    x = x0\n",
    "    trayectoria = []\n",
    "    for i in range(int(maxit)):\n",
    "        grad = grad_f(x)\n",
    "        x = x - gamma * grad\n",
    "        trayectoria.append(x)\n",
    "        if np.inner(grad, grad) < tol:\n",
    "            break\n",
    "    return trayectoria\n",
    "\n",
    "# Devuelve una función que es la función gradiente de otra función dada en python\n",
    "# utilizando sympy de forma simbólica.\n",
    "def gradiente(func, numvars):\n",
    "    # Evalua la función para cada uno de los símbolos\n",
    "    s = []\n",
    "    for i in range(numvars):\n",
    "        s.append(sympy.symbols('x' + str(i)))\n",
    "    func = func(s)\n",
    "    # Calculate the derivative to calculate the gradient\n",
    "    d = []\n",
    "    for i in range(numvars):\n",
    "        d.append(sympy.diff(func, s[i]))\n",
    "    d = sympy.Matrix(d)\n",
    "    # Return a function that evaluates the gradients given the symbols\n",
    "    func = sympy.lambdify([s], d)\n",
    "    return lambda x: np.array(func(x)).flatten()"
   ]
  },
  {
   "cell_type": "code",
   "execution_count": 46,
   "metadata": {
    "tags": []
   },
   "outputs": [],
   "source": [
    "#func = lambda x: x[0]**2 + x[1]**2\n",
    "func = lambda x: 0.5*x[0]**2\n",
    "#func = lambda x: math.sin(0.5*x[0]**2 -0.25*x[1]**2 + 3) * math.cos(2*x[0] + 1 - math.exp(x[1]))\n",
    "#dfunc = lambda x: [2*x[0], 2*x[1]]"
   ]
  },
  {
   "cell_type": "code",
   "execution_count": 47,
   "metadata": {
    "tags": []
   },
   "outputs": [
    {
     "name": "stdout",
     "output_type": "stream",
     "text": [
      "La aproximación del punto x con derivada nula es: 3.5280547416398795e-07\n",
      "El valor de la función en 3.5280547416398795e-07 es 6.223585130003819e-14\n"
     ]
    },
    {
     "data": {
      "image/png": "[encoded data removed]",
      "text/plain": [
       "<Figure size 640x480 with 2 Axes>"
      ]
     },
     "metadata": {},
     "output_type": "display_data"
    }
   ],
   "source": [
    "resolucion = 100\n",
    "rango = 2.5\n",
    "x_array = np.linspace(-rango, rango, resolucion)\n",
    "y_array = np.linspace(-rango, rango, resolucion)\n",
    "z = np.zeros((resolucion, resolucion))\n",
    "\n",
    "for i,x in enumerate(x_array):\n",
    "    for j, y in enumerate(y_array):\n",
    "        z[i, j] = func([x,y])\n",
    "        \n",
    "contour = plt.contourf(x_array, y_array, z, resolucion)\n",
    "cbar = plt.colorbar()\n",
    "\n",
    "x0 = [random.uniform(-rango, rango), random.uniform(-rango, rango)]\n",
    "plt.plot(x0[0], x0[1], \"o\", c=\"red\")\n",
    "\n",
    "gamma = 0.1\n",
    "tol=1e-12\n",
    "maxit=1e5\n",
    "trayectoria = descenso_de_gradiente(gradiente(func,2), x0, gamma, tol, maxit)\n",
    "plt.plot([x[0] for x in trayectoria], [x[1] for x in trayectoria], \"o\", c=\"green\")\n",
    "plt.plot(trayectoria[-1][0], trayectoria[-1][1], \"o\", c=\"white\")\n",
    "print(\"La aproximación del punto x con derivada nula es: {}\".format(x1[0]))\n",
    "print(\"El valor de la función en {} es {}\".format(x1[0], func(x1)))\n",
    "\n",
    "plt.show();"
   ]
  },
  {
   "cell_type": "code",
   "execution_count": null,
   "metadata": {},
   "outputs": [],
   "source": []
  }
 ],
 "metadata": {
  "colab": {
   "authorship_tag": "ABX9TyPeizotSgBKTL+0Xv2iIQzd",
   "include_colab_link": true,
   "provenance": []
  },
  "kernelspec": {
   "display_name": "Python 3 (ipykernel)",
   "language": "python",
   "name": "python3"
  },
  "language_info": {
   "codemirror_mode": {
    "name": "ipython",
    "version": 3
   },
   "file_extension": ".py",
   "mimetype": "text/x-python",
   "name": "python",
   "nbconvert_exporter": "python",
   "pygments_lexer": "ipython3",
   "version": "3.10.9"
  }
 },
 "nbformat": 4,
 "nbformat_minor": 4
}
