{
 "cells": [
  {
   "cell_type": "markdown",
   "metadata": {
    "id": "C4zOnRumto2-"
   },
   "source": [
    "# Problemas de trabajo práctico: Sesiones de doblaje\n",
    "## Autor\n",
    "Miguel Ángel Álvarez Cabanes\n",
    "## Github\n",
    "https://github.com/maalvarezcabanes/algoritmos_optimizacion"
   ]
  },
  {
   "cell_type": "markdown",
   "metadata": {},
   "source": [
    "## Importación paquetes y funciones auxiliares"
   ]
  },
  {
   "cell_type": "code",
   "execution_count": 557,
   "metadata": {
    "tags": []
   },
   "outputs": [],
   "source": [
    "import pandas as pd\n",
    "import random\n",
    "import os\n",
    "import logging\n",
    "\n",
    "import matplotlib.pyplot as plt\n",
    "import seaborn as sns\n",
    "%matplotlib inline\n",
    "\n",
    "logging.basicConfig(level=logging.INFO)\n",
    "logging.getLogger().setLevel(logging.INFO)"
   ]
  },
  {
   "cell_type": "code",
   "execution_count": 558,
   "metadata": {
    "tags": []
   },
   "outputs": [],
   "source": [
    "show_expanded_solution = True"
   ]
  },
  {
   "cell_type": "code",
   "execution_count": 559,
   "metadata": {
    "tags": []
   },
   "outputs": [],
   "source": [
    "def clean_plot(ax, xlabel, ylabel, title, legend = True, rotate = 45):\n",
    "    ax.spines.right.set_visible(False)\n",
    "    ax.spines.top.set_visible(False)\n",
    "    ax.set_xlabel(xlabel)\n",
    "    ax.set_ylabel(ylabel)\n",
    "    ax.set_title(title)\n",
    "    if legend:\n",
    "        ax.legend(bbox_to_anchor=(1.2, 1))\n",
    "    if rotate:\n",
    "        ax.tick_params(axis='x', labelrotation = rotate)"
   ]
  },
  {
   "cell_type": "markdown",
   "metadata": {},
   "source": [
    "## Enunciado\n",
    "Se precisa coordinar el doblaje de una película. Las reglas de planificación que se deben seguir son:\n",
    "1. Los actores del doblaje deben coincidir en las tomas en las que sus personajes aparecen juntos en las diferentes tomas.\n",
    "2. Los actores de doblaje cobran todos la misma cantidad por cada día que deben desplazarse hasta el estudio de grabación independientemente del número de tomas que se graben.\n",
    "3. No es posible grabar más de 6 tomas por día.\n",
    "4. El objetivo es planificar las sesiones por día de manera que el gasto por los servicios de los actores de doblaje sea el menor posible."
   ]
  },
  {
   "cell_type": "markdown",
   "metadata": {},
   "source": [
    "## Lectura de datos de tomas y actores\n",
    "Los datos originales están en https://docs.google.com/spreadsheets/d/1Ipn6IrbQP4ax8zOnivdBIw2lN0JISkJG4fXndYd27U0/edit#gid=0, pero los descargo a un fichero \"doblaje.xlsx\" por comodidad.\n",
    "\n",
    "A continuación leo los datos con pandas limpiando el DataFrame para solo quedarme con los datos de actores y tomas"
   ]
  },
  {
   "cell_type": "code",
   "execution_count": 560,
   "metadata": {
    "tags": []
   },
   "outputs": [
    {
     "data": {
      "text/html": [
       "<div>\n",
       "<style scoped>\n",
       "    .dataframe tbody tr th:only-of-type {\n",
       "        vertical-align: middle;\n",
       "    }\n",
       "\n",
       "    .dataframe tbody tr th {\n",
       "        vertical-align: top;\n",
       "    }\n",
       "\n",
       "    .dataframe thead th {\n",
       "        text-align: right;\n",
       "    }\n",
       "</style>\n",
       "<table border=\"1\" class=\"dataframe\">\n",
       "  <thead>\n",
       "    <tr style=\"text-align: right;\">\n",
       "      <th></th>\n",
       "      <th>1</th>\n",
       "      <th>2</th>\n",
       "      <th>3</th>\n",
       "      <th>4</th>\n",
       "      <th>5</th>\n",
       "      <th>6</th>\n",
       "      <th>7</th>\n",
       "      <th>8</th>\n",
       "      <th>9</th>\n",
       "      <th>10</th>\n",
       "    </tr>\n",
       "    <tr>\n",
       "      <th>Toma</th>\n",
       "      <th></th>\n",
       "      <th></th>\n",
       "      <th></th>\n",
       "      <th></th>\n",
       "      <th></th>\n",
       "      <th></th>\n",
       "      <th></th>\n",
       "      <th></th>\n",
       "      <th></th>\n",
       "      <th></th>\n",
       "    </tr>\n",
       "  </thead>\n",
       "  <tbody>\n",
       "    <tr>\n",
       "      <th>1</th>\n",
       "      <td>1.0</td>\n",
       "      <td>1.0</td>\n",
       "      <td>1.0</td>\n",
       "      <td>1.0</td>\n",
       "      <td>1.0</td>\n",
       "      <td>0.0</td>\n",
       "      <td>0.0</td>\n",
       "      <td>0.0</td>\n",
       "      <td>0.0</td>\n",
       "      <td>0.0</td>\n",
       "    </tr>\n",
       "    <tr>\n",
       "      <th>2</th>\n",
       "      <td>0.0</td>\n",
       "      <td>0.0</td>\n",
       "      <td>1.0</td>\n",
       "      <td>1.0</td>\n",
       "      <td>1.0</td>\n",
       "      <td>0.0</td>\n",
       "      <td>0.0</td>\n",
       "      <td>0.0</td>\n",
       "      <td>0.0</td>\n",
       "      <td>0.0</td>\n",
       "    </tr>\n",
       "    <tr>\n",
       "      <th>3</th>\n",
       "      <td>0.0</td>\n",
       "      <td>1.0</td>\n",
       "      <td>0.0</td>\n",
       "      <td>0.0</td>\n",
       "      <td>1.0</td>\n",
       "      <td>0.0</td>\n",
       "      <td>1.0</td>\n",
       "      <td>0.0</td>\n",
       "      <td>0.0</td>\n",
       "      <td>0.0</td>\n",
       "    </tr>\n",
       "    <tr>\n",
       "      <th>4</th>\n",
       "      <td>1.0</td>\n",
       "      <td>1.0</td>\n",
       "      <td>0.0</td>\n",
       "      <td>0.0</td>\n",
       "      <td>0.0</td>\n",
       "      <td>0.0</td>\n",
       "      <td>1.0</td>\n",
       "      <td>1.0</td>\n",
       "      <td>0.0</td>\n",
       "      <td>0.0</td>\n",
       "    </tr>\n",
       "    <tr>\n",
       "      <th>5</th>\n",
       "      <td>0.0</td>\n",
       "      <td>1.0</td>\n",
       "      <td>0.0</td>\n",
       "      <td>1.0</td>\n",
       "      <td>0.0</td>\n",
       "      <td>0.0</td>\n",
       "      <td>0.0</td>\n",
       "      <td>1.0</td>\n",
       "      <td>0.0</td>\n",
       "      <td>0.0</td>\n",
       "    </tr>\n",
       "    <tr>\n",
       "      <th>6</th>\n",
       "      <td>1.0</td>\n",
       "      <td>1.0</td>\n",
       "      <td>0.0</td>\n",
       "      <td>1.0</td>\n",
       "      <td>1.0</td>\n",
       "      <td>0.0</td>\n",
       "      <td>0.0</td>\n",
       "      <td>0.0</td>\n",
       "      <td>0.0</td>\n",
       "      <td>0.0</td>\n",
       "    </tr>\n",
       "    <tr>\n",
       "      <th>7</th>\n",
       "      <td>1.0</td>\n",
       "      <td>1.0</td>\n",
       "      <td>0.0</td>\n",
       "      <td>1.0</td>\n",
       "      <td>1.0</td>\n",
       "      <td>0.0</td>\n",
       "      <td>0.0</td>\n",
       "      <td>0.0</td>\n",
       "      <td>0.0</td>\n",
       "      <td>0.0</td>\n",
       "    </tr>\n",
       "    <tr>\n",
       "      <th>8</th>\n",
       "      <td>1.0</td>\n",
       "      <td>1.0</td>\n",
       "      <td>0.0</td>\n",
       "      <td>0.0</td>\n",
       "      <td>0.0</td>\n",
       "      <td>1.0</td>\n",
       "      <td>0.0</td>\n",
       "      <td>0.0</td>\n",
       "      <td>0.0</td>\n",
       "      <td>0.0</td>\n",
       "    </tr>\n",
       "    <tr>\n",
       "      <th>9</th>\n",
       "      <td>1.0</td>\n",
       "      <td>1.0</td>\n",
       "      <td>0.0</td>\n",
       "      <td>1.0</td>\n",
       "      <td>0.0</td>\n",
       "      <td>0.0</td>\n",
       "      <td>0.0</td>\n",
       "      <td>0.0</td>\n",
       "      <td>0.0</td>\n",
       "      <td>0.0</td>\n",
       "    </tr>\n",
       "    <tr>\n",
       "      <th>10</th>\n",
       "      <td>1.0</td>\n",
       "      <td>1.0</td>\n",
       "      <td>0.0</td>\n",
       "      <td>0.0</td>\n",
       "      <td>0.0</td>\n",
       "      <td>1.0</td>\n",
       "      <td>0.0</td>\n",
       "      <td>0.0</td>\n",
       "      <td>1.0</td>\n",
       "      <td>0.0</td>\n",
       "    </tr>\n",
       "    <tr>\n",
       "      <th>11</th>\n",
       "      <td>1.0</td>\n",
       "      <td>1.0</td>\n",
       "      <td>1.0</td>\n",
       "      <td>0.0</td>\n",
       "      <td>1.0</td>\n",
       "      <td>0.0</td>\n",
       "      <td>0.0</td>\n",
       "      <td>1.0</td>\n",
       "      <td>0.0</td>\n",
       "      <td>0.0</td>\n",
       "    </tr>\n",
       "    <tr>\n",
       "      <th>12</th>\n",
       "      <td>1.0</td>\n",
       "      <td>1.0</td>\n",
       "      <td>1.0</td>\n",
       "      <td>1.0</td>\n",
       "      <td>0.0</td>\n",
       "      <td>1.0</td>\n",
       "      <td>0.0</td>\n",
       "      <td>0.0</td>\n",
       "      <td>0.0</td>\n",
       "      <td>0.0</td>\n",
       "    </tr>\n",
       "    <tr>\n",
       "      <th>13</th>\n",
       "      <td>1.0</td>\n",
       "      <td>0.0</td>\n",
       "      <td>0.0</td>\n",
       "      <td>1.0</td>\n",
       "      <td>1.0</td>\n",
       "      <td>0.0</td>\n",
       "      <td>0.0</td>\n",
       "      <td>0.0</td>\n",
       "      <td>0.0</td>\n",
       "      <td>0.0</td>\n",
       "    </tr>\n",
       "    <tr>\n",
       "      <th>14</th>\n",
       "      <td>1.0</td>\n",
       "      <td>0.0</td>\n",
       "      <td>1.0</td>\n",
       "      <td>0.0</td>\n",
       "      <td>0.0</td>\n",
       "      <td>1.0</td>\n",
       "      <td>0.0</td>\n",
       "      <td>0.0</td>\n",
       "      <td>0.0</td>\n",
       "      <td>0.0</td>\n",
       "    </tr>\n",
       "    <tr>\n",
       "      <th>15</th>\n",
       "      <td>1.0</td>\n",
       "      <td>1.0</td>\n",
       "      <td>0.0</td>\n",
       "      <td>0.0</td>\n",
       "      <td>0.0</td>\n",
       "      <td>0.0</td>\n",
       "      <td>1.0</td>\n",
       "      <td>0.0</td>\n",
       "      <td>0.0</td>\n",
       "      <td>0.0</td>\n",
       "    </tr>\n",
       "    <tr>\n",
       "      <th>16</th>\n",
       "      <td>0.0</td>\n",
       "      <td>0.0</td>\n",
       "      <td>0.0</td>\n",
       "      <td>1.0</td>\n",
       "      <td>0.0</td>\n",
       "      <td>0.0</td>\n",
       "      <td>0.0</td>\n",
       "      <td>0.0</td>\n",
       "      <td>0.0</td>\n",
       "      <td>1.0</td>\n",
       "    </tr>\n",
       "    <tr>\n",
       "      <th>17</th>\n",
       "      <td>1.0</td>\n",
       "      <td>0.0</td>\n",
       "      <td>1.0</td>\n",
       "      <td>0.0</td>\n",
       "      <td>0.0</td>\n",
       "      <td>0.0</td>\n",
       "      <td>0.0</td>\n",
       "      <td>0.0</td>\n",
       "      <td>0.0</td>\n",
       "      <td>0.0</td>\n",
       "    </tr>\n",
       "    <tr>\n",
       "      <th>18</th>\n",
       "      <td>0.0</td>\n",
       "      <td>0.0</td>\n",
       "      <td>1.0</td>\n",
       "      <td>0.0</td>\n",
       "      <td>0.0</td>\n",
       "      <td>1.0</td>\n",
       "      <td>0.0</td>\n",
       "      <td>0.0</td>\n",
       "      <td>0.0</td>\n",
       "      <td>0.0</td>\n",
       "    </tr>\n",
       "    <tr>\n",
       "      <th>19</th>\n",
       "      <td>1.0</td>\n",
       "      <td>0.0</td>\n",
       "      <td>1.0</td>\n",
       "      <td>0.0</td>\n",
       "      <td>0.0</td>\n",
       "      <td>0.0</td>\n",
       "      <td>0.0</td>\n",
       "      <td>0.0</td>\n",
       "      <td>0.0</td>\n",
       "      <td>0.0</td>\n",
       "    </tr>\n",
       "    <tr>\n",
       "      <th>20</th>\n",
       "      <td>1.0</td>\n",
       "      <td>0.0</td>\n",
       "      <td>1.0</td>\n",
       "      <td>1.0</td>\n",
       "      <td>1.0</td>\n",
       "      <td>0.0</td>\n",
       "      <td>0.0</td>\n",
       "      <td>0.0</td>\n",
       "      <td>0.0</td>\n",
       "      <td>0.0</td>\n",
       "    </tr>\n",
       "    <tr>\n",
       "      <th>21</th>\n",
       "      <td>0.0</td>\n",
       "      <td>0.0</td>\n",
       "      <td>0.0</td>\n",
       "      <td>0.0</td>\n",
       "      <td>0.0</td>\n",
       "      <td>1.0</td>\n",
       "      <td>0.0</td>\n",
       "      <td>1.0</td>\n",
       "      <td>0.0</td>\n",
       "      <td>0.0</td>\n",
       "    </tr>\n",
       "    <tr>\n",
       "      <th>22</th>\n",
       "      <td>1.0</td>\n",
       "      <td>1.0</td>\n",
       "      <td>1.0</td>\n",
       "      <td>1.0</td>\n",
       "      <td>0.0</td>\n",
       "      <td>0.0</td>\n",
       "      <td>0.0</td>\n",
       "      <td>0.0</td>\n",
       "      <td>0.0</td>\n",
       "      <td>0.0</td>\n",
       "    </tr>\n",
       "    <tr>\n",
       "      <th>23</th>\n",
       "      <td>1.0</td>\n",
       "      <td>0.0</td>\n",
       "      <td>1.0</td>\n",
       "      <td>0.0</td>\n",
       "      <td>0.0</td>\n",
       "      <td>0.0</td>\n",
       "      <td>0.0</td>\n",
       "      <td>0.0</td>\n",
       "      <td>0.0</td>\n",
       "      <td>0.0</td>\n",
       "    </tr>\n",
       "    <tr>\n",
       "      <th>24</th>\n",
       "      <td>0.0</td>\n",
       "      <td>0.0</td>\n",
       "      <td>1.0</td>\n",
       "      <td>0.0</td>\n",
       "      <td>0.0</td>\n",
       "      <td>1.0</td>\n",
       "      <td>0.0</td>\n",
       "      <td>0.0</td>\n",
       "      <td>0.0</td>\n",
       "      <td>0.0</td>\n",
       "    </tr>\n",
       "    <tr>\n",
       "      <th>25</th>\n",
       "      <td>1.0</td>\n",
       "      <td>1.0</td>\n",
       "      <td>0.0</td>\n",
       "      <td>1.0</td>\n",
       "      <td>0.0</td>\n",
       "      <td>0.0</td>\n",
       "      <td>0.0</td>\n",
       "      <td>0.0</td>\n",
       "      <td>0.0</td>\n",
       "      <td>1.0</td>\n",
       "    </tr>\n",
       "    <tr>\n",
       "      <th>26</th>\n",
       "      <td>1.0</td>\n",
       "      <td>0.0</td>\n",
       "      <td>1.0</td>\n",
       "      <td>0.0</td>\n",
       "      <td>1.0</td>\n",
       "      <td>0.0</td>\n",
       "      <td>0.0</td>\n",
       "      <td>0.0</td>\n",
       "      <td>1.0</td>\n",
       "      <td>0.0</td>\n",
       "    </tr>\n",
       "    <tr>\n",
       "      <th>27</th>\n",
       "      <td>0.0</td>\n",
       "      <td>0.0</td>\n",
       "      <td>0.0</td>\n",
       "      <td>1.0</td>\n",
       "      <td>1.0</td>\n",
       "      <td>0.0</td>\n",
       "      <td>0.0</td>\n",
       "      <td>0.0</td>\n",
       "      <td>0.0</td>\n",
       "      <td>0.0</td>\n",
       "    </tr>\n",
       "    <tr>\n",
       "      <th>28</th>\n",
       "      <td>1.0</td>\n",
       "      <td>0.0</td>\n",
       "      <td>0.0</td>\n",
       "      <td>1.0</td>\n",
       "      <td>0.0</td>\n",
       "      <td>0.0</td>\n",
       "      <td>0.0</td>\n",
       "      <td>0.0</td>\n",
       "      <td>0.0</td>\n",
       "      <td>0.0</td>\n",
       "    </tr>\n",
       "    <tr>\n",
       "      <th>29</th>\n",
       "      <td>1.0</td>\n",
       "      <td>0.0</td>\n",
       "      <td>0.0</td>\n",
       "      <td>0.0</td>\n",
       "      <td>1.0</td>\n",
       "      <td>1.0</td>\n",
       "      <td>0.0</td>\n",
       "      <td>0.0</td>\n",
       "      <td>0.0</td>\n",
       "      <td>0.0</td>\n",
       "    </tr>\n",
       "    <tr>\n",
       "      <th>30</th>\n",
       "      <td>1.0</td>\n",
       "      <td>0.0</td>\n",
       "      <td>0.0</td>\n",
       "      <td>1.0</td>\n",
       "      <td>0.0</td>\n",
       "      <td>0.0</td>\n",
       "      <td>0.0</td>\n",
       "      <td>0.0</td>\n",
       "      <td>0.0</td>\n",
       "      <td>0.0</td>\n",
       "    </tr>\n",
       "  </tbody>\n",
       "</table>\n",
       "</div>"
      ],
      "text/plain": [
       "        1    2    3    4    5    6    7    8    9   10\n",
       "Toma                                                  \n",
       "1     1.0  1.0  1.0  1.0  1.0  0.0  0.0  0.0  0.0  0.0\n",
       "2     0.0  0.0  1.0  1.0  1.0  0.0  0.0  0.0  0.0  0.0\n",
       "3     0.0  1.0  0.0  0.0  1.0  0.0  1.0  0.0  0.0  0.0\n",
       "4     1.0  1.0  0.0  0.0  0.0  0.0  1.0  1.0  0.0  0.0\n",
       "5     0.0  1.0  0.0  1.0  0.0  0.0  0.0  1.0  0.0  0.0\n",
       "6     1.0  1.0  0.0  1.0  1.0  0.0  0.0  0.0  0.0  0.0\n",
       "7     1.0  1.0  0.0  1.0  1.0  0.0  0.0  0.0  0.0  0.0\n",
       "8     1.0  1.0  0.0  0.0  0.0  1.0  0.0  0.0  0.0  0.0\n",
       "9     1.0  1.0  0.0  1.0  0.0  0.0  0.0  0.0  0.0  0.0\n",
       "10    1.0  1.0  0.0  0.0  0.0  1.0  0.0  0.0  1.0  0.0\n",
       "11    1.0  1.0  1.0  0.0  1.0  0.0  0.0  1.0  0.0  0.0\n",
       "12    1.0  1.0  1.0  1.0  0.0  1.0  0.0  0.0  0.0  0.0\n",
       "13    1.0  0.0  0.0  1.0  1.0  0.0  0.0  0.0  0.0  0.0\n",
       "14    1.0  0.0  1.0  0.0  0.0  1.0  0.0  0.0  0.0  0.0\n",
       "15    1.0  1.0  0.0  0.0  0.0  0.0  1.0  0.0  0.0  0.0\n",
       "16    0.0  0.0  0.0  1.0  0.0  0.0  0.0  0.0  0.0  1.0\n",
       "17    1.0  0.0  1.0  0.0  0.0  0.0  0.0  0.0  0.0  0.0\n",
       "18    0.0  0.0  1.0  0.0  0.0  1.0  0.0  0.0  0.0  0.0\n",
       "19    1.0  0.0  1.0  0.0  0.0  0.0  0.0  0.0  0.0  0.0\n",
       "20    1.0  0.0  1.0  1.0  1.0  0.0  0.0  0.0  0.0  0.0\n",
       "21    0.0  0.0  0.0  0.0  0.0  1.0  0.0  1.0  0.0  0.0\n",
       "22    1.0  1.0  1.0  1.0  0.0  0.0  0.0  0.0  0.0  0.0\n",
       "23    1.0  0.0  1.0  0.0  0.0  0.0  0.0  0.0  0.0  0.0\n",
       "24    0.0  0.0  1.0  0.0  0.0  1.0  0.0  0.0  0.0  0.0\n",
       "25    1.0  1.0  0.0  1.0  0.0  0.0  0.0  0.0  0.0  1.0\n",
       "26    1.0  0.0  1.0  0.0  1.0  0.0  0.0  0.0  1.0  0.0\n",
       "27    0.0  0.0  0.0  1.0  1.0  0.0  0.0  0.0  0.0  0.0\n",
       "28    1.0  0.0  0.0  1.0  0.0  0.0  0.0  0.0  0.0  0.0\n",
       "29    1.0  0.0  0.0  0.0  1.0  1.0  0.0  0.0  0.0  0.0\n",
       "30    1.0  0.0  0.0  1.0  0.0  0.0  0.0  0.0  0.0  0.0"
      ]
     },
     "execution_count": 560,
     "metadata": {},
     "output_type": "execute_result"
    }
   ],
   "source": [
    "df = pd.read_excel(os.path.join(\".\", \"doblaje.xlsx\"), skiprows=1).drop([\"Unnamed: 11\", \"Total\"], axis=1)\n",
    "df.set_index(\"Toma\", inplace=True)\n",
    "df.drop(\"TOTAL\", inplace=True)\n",
    "df.dropna(inplace=True)\n",
    "df"
   ]
  },
  {
   "cell_type": "markdown",
   "metadata": {},
   "source": [
    "## Mínimo coste hipotético\n",
    "Para establecer un mínimo coste hipotético, voy a sumar las sesiones de cada actor y lo voy a dividir entre seis. Hipotéticamente si los actores pudiesen grabar las sesiones de forma independiente, la suma de esos costes sería el mínimo. Es probable que esa solución no sea factible, pero sabemos seguro que ninguna solución va a ser mejor que esa."
   ]
  },
  {
   "cell_type": "code",
   "execution_count": 561,
   "metadata": {
    "tags": []
   },
   "outputs": [
    {
     "data": {
      "text/plain": [
       "1     22.0\n",
       "2     14.0\n",
       "3     13.0\n",
       "4     15.0\n",
       "5     11.0\n",
       "6      8.0\n",
       "7      3.0\n",
       "8      4.0\n",
       "9      2.0\n",
       "10     2.0\n",
       "dtype: float64"
      ]
     },
     "metadata": {},
     "output_type": "display_data"
    },
    {
     "data": {
      "text/plain": [
       "1     4.0\n",
       "2     3.0\n",
       "3     3.0\n",
       "4     3.0\n",
       "5     2.0\n",
       "6     2.0\n",
       "7     1.0\n",
       "8     1.0\n",
       "9     1.0\n",
       "10    1.0\n",
       "dtype: float64"
      ]
     },
     "metadata": {},
     "output_type": "display_data"
    },
    {
     "data": {
      "text/plain": [
       "21"
      ]
     },
     "metadata": {},
     "output_type": "display_data"
    }
   ],
   "source": [
    "uso_total_actores = df.sum()\n",
    "display(uso_total_actores)\n",
    "coste_minimo_actor = -(uso_total_actores // -6)\n",
    "display(coste_minimo_actor)\n",
    "coste_minimo = int(sum(coste_minimo_actor))\n",
    "display(coste_minimo)"
   ]
  },
  {
   "cell_type": "markdown",
   "metadata": {},
   "source": [
    "En el mejor de los casos sabemos que no vamos a conseguir un coste menor que 21."
   ]
  },
  {
   "cell_type": "code",
   "execution_count": 562,
   "metadata": {
    "tags": []
   },
   "outputs": [],
   "source": [
    "def analyze_solution(df, info_dias):\n",
    "    coste_minimo_actor = -(df.sum() // -6)\n",
    "    dias_actores = [0, 0, 0, 0, 0, 0, 0, 0, 0, 0]\n",
    "    uso_actores_solucion = [x[0] for x in info_dias]\n",
    "    for dias in uso_actores_solucion:\n",
    "        for i, actor in enumerate(dias):\n",
    "            if actor:\n",
    "                dias_actores[i] += 1\n",
    "    i = 1\n",
    "    for minimo, uso in zip(coste_minimo_actor, dias_actores):\n",
    "        if int(minimo) == uso:\n",
    "            print(f\"Hemos logrado el coste mínimo para el actor número {i}. Coste: {uso}\")\n",
    "        else:\n",
    "            print(f\"Para el actor {i} hemos logrado un coste: {uso}. El mínimo hipotético sería {int(minimo)}\")\n",
    "        i += 1"
   ]
  },
  {
   "cell_type": "markdown",
   "metadata": {},
   "source": [
    "## Planteamiento inicial: Solución naïve\n",
    "Para la representación de datos voy a crear una lista de días, y cada uno de los días va a estar representado por otra lista de escenas que se ruedan ese día.\n",
    "\n",
    "La solución naïve consistiría en elegir por orden en grupos de seis tomas por día, por lo que el máximo de días debería ser cinco. Voy a crear esta solución inicial ya que puede ser usada como una referencia de \"peor solución\".\n",
    "\n",
    "Nota: Voy a tratar de hacer el código usando el menor número posible de funcionalidades de librerías para tratar de que la algoritmia usada quede lo más visible posible. Por comodidad sí usaré el DataFrame para acceder a la información."
   ]
  },
  {
   "cell_type": "code",
   "execution_count": 563,
   "metadata": {
    "tags": []
   },
   "outputs": [],
   "source": [
    "def print_solucion(df, dias, coste, info_dias, show_expanded_solution = False):\n",
    "    if show_expanded_solution:\n",
    "        i = 1\n",
    "        for dia, info in zip(dias, info_dias):\n",
    "            print(f\"Dia: {i}\")\n",
    "            print(f\"Sesiones: {dia}\")\n",
    "            print(f\"Uso actores: {info[0]}\")\n",
    "            print(f\"Coste día: {info[1]}\\n\")\n",
    "            i += 1\n",
    "                                \n",
    "    print(f\"Solucion: {dias}\")\n",
    "    print(f\"Coste total: {coste}\")"
   ]
  },
  {
   "cell_type": "code",
   "execution_count": 564,
   "metadata": {
    "tags": []
   },
   "outputs": [],
   "source": [
    "def coste_dia(df, sesiones):\n",
    "    coste = 0\n",
    "    uso_actores = [sum(row) for index, row in df.loc[sesiones].T.iterrows()]\n",
    "    for uso_actor in uso_actores:\n",
    "        if uso_actor:\n",
    "            coste += 1\n",
    "    return (uso_actores, coste)"
   ]
  },
  {
   "cell_type": "code",
   "execution_count": 565,
   "metadata": {
    "tags": []
   },
   "outputs": [],
   "source": [
    "def coste_total(df, dias):\n",
    "    coste = 0\n",
    "    info_dias = []\n",
    "    for num_dia, dia in enumerate(dias):\n",
    "        (uso_actores, coste_aux) = coste_dia(df, dia)\n",
    "        info_dias.append((uso_actores, coste_aux))\n",
    "        coste += coste_aux\n",
    "    return (info_dias, coste)"
   ]
  },
  {
   "cell_type": "code",
   "execution_count": 566,
   "metadata": {
    "tags": []
   },
   "outputs": [],
   "source": [
    "def solucion_naive(df, max_dias = 5):\n",
    "    sesiones = list(df.index)\n",
    "    dias = []\n",
    "    for i in range(max_dias):\n",
    "        dias.append(sesiones[max_dias*i: max_dias*(i+1)])\n",
    "    \n",
    "    return (dias, coste_total(df, dias))"
   ]
  },
  {
   "cell_type": "code",
   "execution_count": 567,
   "metadata": {
    "tags": []
   },
   "outputs": [
    {
     "name": "stdout",
     "output_type": "stream",
     "text": [
      "Dia: 1\n",
      "Sesiones: [1, 2, 3, 4, 5]\n",
      "Uso actores: [2.0, 4.0, 2.0, 3.0, 3.0, 0.0, 2.0, 2.0, 0.0, 0.0]\n",
      "Coste día: 7\n",
      "\n",
      "Dia: 2\n",
      "Sesiones: [6, 7, 8, 9, 10]\n",
      "Uso actores: [5.0, 5.0, 0.0, 3.0, 2.0, 2.0, 0.0, 0.0, 1.0, 0.0]\n",
      "Coste día: 6\n",
      "\n",
      "Dia: 3\n",
      "Sesiones: [11, 12, 13, 14, 15]\n",
      "Uso actores: [5.0, 3.0, 3.0, 2.0, 2.0, 2.0, 1.0, 1.0, 0.0, 0.0]\n",
      "Coste día: 8\n",
      "\n",
      "Dia: 4\n",
      "Sesiones: [16, 17, 18, 19, 20]\n",
      "Uso actores: [3.0, 0.0, 4.0, 2.0, 1.0, 1.0, 0.0, 0.0, 0.0, 1.0]\n",
      "Coste día: 6\n",
      "\n",
      "Dia: 5\n",
      "Sesiones: [21, 22, 23, 24, 25]\n",
      "Uso actores: [3.0, 2.0, 3.0, 2.0, 0.0, 2.0, 0.0, 1.0, 0.0, 1.0]\n",
      "Coste día: 7\n",
      "\n",
      "Solucion: [[1, 2, 3, 4, 5], [6, 7, 8, 9, 10], [11, 12, 13, 14, 15], [16, 17, 18, 19, 20], [21, 22, 23, 24, 25]]\n",
      "Coste total: 34\n"
     ]
    }
   ],
   "source": [
    "dias_naive, (info_dias_naive, coste_naive) = solucion_naive(df)\n",
    "print_solucion(df, dias_naive, coste_naive, info_dias_naive, show_expanded_solution = show_expanded_solution)"
   ]
  },
  {
   "cell_type": "code",
   "execution_count": 568,
   "metadata": {
    "tags": []
   },
   "outputs": [
    {
     "data": {
      "text/html": [
       "<div>\n",
       "<style scoped>\n",
       "    .dataframe tbody tr th:only-of-type {\n",
       "        vertical-align: middle;\n",
       "    }\n",
       "\n",
       "    .dataframe tbody tr th {\n",
       "        vertical-align: top;\n",
       "    }\n",
       "\n",
       "    .dataframe thead th {\n",
       "        text-align: right;\n",
       "    }\n",
       "</style>\n",
       "<table border=\"1\" class=\"dataframe\">\n",
       "  <thead>\n",
       "    <tr style=\"text-align: right;\">\n",
       "      <th></th>\n",
       "      <th>Algoritmo</th>\n",
       "      <th>Numero dias</th>\n",
       "      <th>Coste</th>\n",
       "    </tr>\n",
       "  </thead>\n",
       "  <tbody>\n",
       "    <tr>\n",
       "      <th>0</th>\n",
       "      <td>naïve</td>\n",
       "      <td>5</td>\n",
       "      <td>34</td>\n",
       "    </tr>\n",
       "  </tbody>\n",
       "</table>\n",
       "</div>"
      ],
      "text/plain": [
       "  Algoritmo  Numero dias  Coste\n",
       "0     naïve            5     34"
      ]
     },
     "execution_count": 568,
     "metadata": {},
     "output_type": "execute_result"
    }
   ],
   "source": [
    "df2 = pd.DataFrame([[\"naïve\", len(dias_naive), coste_naive]], columns = [\"Algoritmo\", \"Numero dias\", \"Coste\"])\n",
    "df2"
   ]
  },
  {
   "cell_type": "markdown",
   "metadata": {},
   "source": [
    "### Conclusiones\n",
    "Como se puede observar, la solución requiere tres días de rodaje y un coste de 34 unidades."
   ]
  },
  {
   "cell_type": "markdown",
   "metadata": {},
   "source": [
    "## Aproximación voraz (I)\n",
    "En esta aproximación voy a ir asignando las sesiones de forma ordenada escogiendo siempre la primera que \"quepa\" en el día y relegando a días posteriores las que no."
   ]
  },
  {
   "cell_type": "code",
   "execution_count": 569,
   "metadata": {
    "tags": []
   },
   "outputs": [],
   "source": [
    "def coste_sesion_voraz(df, uso_actores, nueva_sesion, limite):\n",
    "    posible_uso_actores = [sum(row) for row in zip(uso_actores, list(df.loc[nueva_sesion]))]\n",
    "    logging.debug(f\"Posible nueva sesion: {nueva_sesion}.\")\n",
    "    logging.debug(f\"Posible uso de actores: {posible_uso_actores}. Max {max(posible_uso_actores)}\")\n",
    "    if max(posible_uso_actores) > limite:\n",
    "        return None\n",
    "    else:\n",
    "        return 0"
   ]
  },
  {
   "cell_type": "code",
   "execution_count": 570,
   "metadata": {
    "tags": []
   },
   "outputs": [],
   "source": [
    "def mejor_sesion(df, sesiones_dia, sesiones, limite, func_coste_sesion = coste_sesion_voraz):\n",
    "    logging.debug(f\"Sesiones dia: {sesiones_dia}.\")\n",
    "    uso_actores = [sum(row) for index, row in df.loc[sesiones_dia].T.iterrows()]\n",
    "    lista_costes = []\n",
    "    for j in sesiones:\n",
    "        lista_costes.append((func_coste_sesion(df, uso_actores, j, limite=limite), j))\n",
    "    mejor = (2000, None)\n",
    "    for z in lista_costes:\n",
    "        if (z[0] != None) and (z[0] < mejor[0]):\n",
    "            mejor = z\n",
    "    return mejor[1]"
   ]
  },
  {
   "cell_type": "code",
   "execution_count": 571,
   "metadata": {
    "tags": []
   },
   "outputs": [],
   "source": [
    "def algoritmo_basico(df, sesiones, coste_sesion = coste_sesion_voraz, limite = 6):\n",
    "    dias = []\n",
    "    i = 0\n",
    "    while len(sesiones):\n",
    "        dias.append([])\n",
    "        while True:\n",
    "            nueva_sesion = mejor_sesion(df, dias[i], sesiones, limite=limite)\n",
    "            if nueva_sesion == None:\n",
    "                i += 1\n",
    "                break\n",
    "            dias[i].append(nueva_sesion)\n",
    "            sesiones.remove(nueva_sesion)\n",
    "    \n",
    "    logging.debug(f\"Solucion: {dias}\")\n",
    "              \n",
    "    return (dias, coste_total(df, dias))"
   ]
  },
  {
   "cell_type": "code",
   "execution_count": 572,
   "metadata": {
    "tags": []
   },
   "outputs": [
    {
     "name": "stdout",
     "output_type": "stream",
     "text": [
      "Dia: 1\n",
      "Sesiones: [1, 2, 3, 4, 5, 6, 7, 13, 14, 18, 21, 24]\n",
      "Uso actores: [6.0, 6.0, 5.0, 6.0, 6.0, 4.0, 2.0, 3.0, 0.0, 0.0]\n",
      "Coste día: 8\n",
      "\n",
      "Dia: 2\n",
      "Sesiones: [8, 9, 10, 11, 12, 15, 16, 27]\n",
      "Uso actores: [6.0, 6.0, 2.0, 4.0, 2.0, 3.0, 1.0, 1.0, 1.0, 1.0]\n",
      "Coste día: 10\n",
      "\n",
      "Dia: 3\n",
      "Sesiones: [17, 19, 20, 22, 23, 25]\n",
      "Uso actores: [6.0, 2.0, 5.0, 3.0, 1.0, 0.0, 0.0, 0.0, 0.0, 1.0]\n",
      "Coste día: 6\n",
      "\n",
      "Dia: 4\n",
      "Sesiones: [26, 28, 29, 30]\n",
      "Uso actores: [4.0, 0.0, 1.0, 2.0, 2.0, 1.0, 0.0, 0.0, 1.0, 0.0]\n",
      "Coste día: 6\n",
      "\n",
      "Solucion: [[1, 2, 3, 4, 5, 6, 7, 13, 14, 18, 21, 24], [8, 9, 10, 11, 12, 15, 16, 27], [17, 19, 20, 22, 23, 25], [26, 28, 29, 30]]\n",
      "Coste total: 30\n"
     ]
    }
   ],
   "source": [
    "sesiones = list(df.index)\n",
    "dias_voraz, (info_dias_voraz, coste_voraz) = algoritmo_basico(df, sesiones)\n",
    "print_solucion(df, dias_voraz, coste_voraz, info_dias_voraz, show_expanded_solution = show_expanded_solution)"
   ]
  },
  {
   "cell_type": "code",
   "execution_count": 573,
   "metadata": {
    "tags": []
   },
   "outputs": [
    {
     "data": {
      "text/html": [
       "<div>\n",
       "<style scoped>\n",
       "    .dataframe tbody tr th:only-of-type {\n",
       "        vertical-align: middle;\n",
       "    }\n",
       "\n",
       "    .dataframe tbody tr th {\n",
       "        vertical-align: top;\n",
       "    }\n",
       "\n",
       "    .dataframe thead th {\n",
       "        text-align: right;\n",
       "    }\n",
       "</style>\n",
       "<table border=\"1\" class=\"dataframe\">\n",
       "  <thead>\n",
       "    <tr style=\"text-align: right;\">\n",
       "      <th></th>\n",
       "      <th>Algoritmo</th>\n",
       "      <th>Numero dias</th>\n",
       "      <th>Coste</th>\n",
       "    </tr>\n",
       "  </thead>\n",
       "  <tbody>\n",
       "    <tr>\n",
       "      <th>0</th>\n",
       "      <td>naïve</td>\n",
       "      <td>5</td>\n",
       "      <td>34</td>\n",
       "    </tr>\n",
       "    <tr>\n",
       "      <th>1</th>\n",
       "      <td>voraz</td>\n",
       "      <td>4</td>\n",
       "      <td>30</td>\n",
       "    </tr>\n",
       "  </tbody>\n",
       "</table>\n",
       "</div>"
      ],
      "text/plain": [
       "  Algoritmo  Numero dias  Coste\n",
       "0     naïve            5     34\n",
       "1     voraz            4     30"
      ]
     },
     "execution_count": 573,
     "metadata": {},
     "output_type": "execute_result"
    }
   ],
   "source": [
    "df2.loc[df2.shape[0]] = [\"voraz\", len(dias_voraz), coste_voraz]\n",
    "df2"
   ]
  },
  {
   "cell_type": "markdown",
   "metadata": {},
   "source": [
    "Aunque consigo una solución mejor que la \"naïve\", en el fondo es fácil observar que en cierta manera pasa algo similar a una aproximación voraz con el problema de la mochila (aunque en este caso minimizando en lugar de maximizando)... es fáci observar que los actores 7, 8, 9, y 10 (que son los que tienen menos carga de trabajo total) han repartido su trabajo en varios días en lugar de concentrarlo."
   ]
  },
  {
   "cell_type": "markdown",
   "metadata": {},
   "source": [
    "## Aproximación voraz (II)\n",
    "Para esta aproximación, voy a usar una nueva función de coste para el algoritmo voraz. Básicamente voy a potenciar la posibilidad de dejar el máximo hueco posible en el día para nuevas sesiones."
   ]
  },
  {
   "cell_type": "code",
   "execution_count": 574,
   "metadata": {
    "tags": []
   },
   "outputs": [],
   "source": [
    "def coste_sesion_voraz2(df, uso_actores, nueva_sesion, limite):\n",
    "    posible_uso_actores = [sum(row) for row in zip(uso_actores, list(df.loc[nueva_sesion]))]\n",
    "    logging.debug(f\"Posible nueva sesion: {nueva_sesion}.\")\n",
    "    logging.debug(f\"Posible uso de actores: {posible_uso_actores}. Max {max(posible_uso_actores)}\")\n",
    "    return limite - max(posible_uso_actores)"
   ]
  },
  {
   "cell_type": "code",
   "execution_count": 575,
   "metadata": {
    "tags": []
   },
   "outputs": [
    {
     "name": "stdout",
     "output_type": "stream",
     "text": [
      "Dia: 1\n",
      "Sesiones: [1, 2, 3, 4, 5, 6, 7, 13, 14, 18, 21, 24]\n",
      "Uso actores: [6.0, 6.0, 5.0, 6.0, 6.0, 4.0, 2.0, 3.0, 0.0, 0.0]\n",
      "Coste día: 8\n",
      "\n",
      "Dia: 2\n",
      "Sesiones: [8, 9, 10, 11, 12, 15, 16, 27]\n",
      "Uso actores: [6.0, 6.0, 2.0, 4.0, 2.0, 3.0, 1.0, 1.0, 1.0, 1.0]\n",
      "Coste día: 10\n",
      "\n",
      "Dia: 3\n",
      "Sesiones: [17, 19, 20, 22, 23, 25]\n",
      "Uso actores: [6.0, 2.0, 5.0, 3.0, 1.0, 0.0, 0.0, 0.0, 0.0, 1.0]\n",
      "Coste día: 6\n",
      "\n",
      "Dia: 4\n",
      "Sesiones: [26, 28, 29, 30]\n",
      "Uso actores: [4.0, 0.0, 1.0, 2.0, 2.0, 1.0, 0.0, 0.0, 1.0, 0.0]\n",
      "Coste día: 6\n",
      "\n",
      "Solucion: [[1, 2, 3, 4, 5, 6, 7, 13, 14, 18, 21, 24], [8, 9, 10, 11, 12, 15, 16, 27], [17, 19, 20, 22, 23, 25], [26, 28, 29, 30]]\n",
      "Coste total: 30\n"
     ]
    }
   ],
   "source": [
    "sesiones = list(df.index)\n",
    "dias_voraz2, (info_dias_voraz2, coste_voraz2) = algoritmo_basico(df, sesiones, coste_sesion = coste_sesion_voraz2)\n",
    "print_solucion(df, dias_voraz2, coste_voraz2, info_dias_voraz2, show_expanded_solution = show_expanded_solution)"
   ]
  },
  {
   "cell_type": "code",
   "execution_count": 576,
   "metadata": {
    "tags": []
   },
   "outputs": [
    {
     "data": {
      "text/html": [
       "<div>\n",
       "<style scoped>\n",
       "    .dataframe tbody tr th:only-of-type {\n",
       "        vertical-align: middle;\n",
       "    }\n",
       "\n",
       "    .dataframe tbody tr th {\n",
       "        vertical-align: top;\n",
       "    }\n",
       "\n",
       "    .dataframe thead th {\n",
       "        text-align: right;\n",
       "    }\n",
       "</style>\n",
       "<table border=\"1\" class=\"dataframe\">\n",
       "  <thead>\n",
       "    <tr style=\"text-align: right;\">\n",
       "      <th></th>\n",
       "      <th>Algoritmo</th>\n",
       "      <th>Numero dias</th>\n",
       "      <th>Coste</th>\n",
       "    </tr>\n",
       "  </thead>\n",
       "  <tbody>\n",
       "    <tr>\n",
       "      <th>0</th>\n",
       "      <td>naïve</td>\n",
       "      <td>5</td>\n",
       "      <td>34</td>\n",
       "    </tr>\n",
       "    <tr>\n",
       "      <th>1</th>\n",
       "      <td>voraz</td>\n",
       "      <td>4</td>\n",
       "      <td>30</td>\n",
       "    </tr>\n",
       "    <tr>\n",
       "      <th>2</th>\n",
       "      <td>voraz2</td>\n",
       "      <td>4</td>\n",
       "      <td>30</td>\n",
       "    </tr>\n",
       "  </tbody>\n",
       "</table>\n",
       "</div>"
      ],
      "text/plain": [
       "  Algoritmo  Numero dias  Coste\n",
       "0     naïve            5     34\n",
       "1     voraz            4     30\n",
       "2    voraz2            4     30"
      ]
     },
     "execution_count": 576,
     "metadata": {},
     "output_type": "execute_result"
    }
   ],
   "source": [
    "df2.loc[df2.shape[0]] = [\"voraz2\", len(dias_voraz2), coste_voraz2]\n",
    "df2"
   ]
  },
  {
   "cell_type": "markdown",
   "metadata": {},
   "source": [
    "## Aproximación voraz con arranque experto\n",
    "Me pregunto qué pasaría si aplicamos la misma solución, pero ordenando primero las secuencias de forma que las primeras sean las que están los actores menos usados, de forma que tiendan a agruparse sus escenas.\n",
    "\n",
    "El orden \"lógico\" sería 10, 9, 7, 8, 6, 5, 3, 4, 2, 1 poniendo por orden inverso de uso de actores, pero usando 10, 9, 8, 7, 6, 5, 4, 3, 2, 1 consigo 26 en lugar de 27."
   ]
  },
  {
   "cell_type": "code",
   "execution_count": 577,
   "metadata": {
    "tags": []
   },
   "outputs": [],
   "source": [
    "def reordenar_sesiones(sesiones, orden_actores):\n",
    "    sesiones_ordered = []\n",
    "    for actor in orden_actores:\n",
    "        for sesion in sesiones:\n",
    "            if df.loc[sesion][actor]:\n",
    "                sesiones_ordered.append(sesion)\n",
    "                sesiones.remove(sesion)\n",
    "    return sesiones_ordered"
   ]
  },
  {
   "cell_type": "code",
   "execution_count": 578,
   "metadata": {
    "tags": []
   },
   "outputs": [
    {
     "name": "stdout",
     "output_type": "stream",
     "text": [
      "Dia: 1\n",
      "Sesiones: [16, 25, 10, 26, 4, 11, 21, 3, 15, 18, 24, 27, 2]\n",
      "Uso actores: [6.0, 6.0, 5.0, 4.0, 5.0, 4.0, 3.0, 3.0, 2.0, 2.0]\n",
      "Coste día: 10\n",
      "\n",
      "Dia: 2\n",
      "Sesiones: [8, 12, 14, 29, 1, 6, 5]\n",
      "Uso actores: [6.0, 5.0, 3.0, 4.0, 3.0, 4.0, 0.0, 1.0, 0.0, 0.0]\n",
      "Coste día: 7\n",
      "\n",
      "Dia: 3\n",
      "Sesiones: [13, 20, 7, 22, 28, 17]\n",
      "Uso actores: [6.0, 2.0, 3.0, 5.0, 3.0, 0.0, 0.0, 0.0, 0.0, 0.0]\n",
      "Coste día: 5\n",
      "\n",
      "Dia: 4\n",
      "Sesiones: [23, 9, 30]\n",
      "Uso actores: [3.0, 1.0, 1.0, 2.0, 0.0, 0.0, 0.0, 0.0, 0.0, 0.0]\n",
      "Coste día: 4\n",
      "\n",
      "Solucion: [[16, 25, 10, 26, 4, 11, 21, 3, 15, 18, 24, 27, 2], [8, 12, 14, 29, 1, 6, 5], [13, 20, 7, 22, 28, 17], [23, 9, 30]]\n",
      "Coste total: 26\n"
     ]
    }
   ],
   "source": [
    "sesiones = list(df.index)\n",
    "orden_actores = [10, 9, 8, 7, 6, 5, 4, 3, 2, 1]\n",
    "sesiones_reordenadas = reordenar_sesiones(sesiones, orden_actores)\n",
    "dias_voraz_experto, (info_dias_voraz_experto, coste_voraz_experto) = algoritmo_basico(df, sesiones_reordenadas, coste_sesion = coste_sesion_voraz2)\n",
    "print_solucion(df, dias_voraz_experto, coste_voraz_experto, info_dias_voraz_experto, show_expanded_solution = show_expanded_solution)"
   ]
  },
  {
   "cell_type": "code",
   "execution_count": 579,
   "metadata": {
    "tags": []
   },
   "outputs": [
    {
     "data": {
      "text/html": [
       "<div>\n",
       "<style scoped>\n",
       "    .dataframe tbody tr th:only-of-type {\n",
       "        vertical-align: middle;\n",
       "    }\n",
       "\n",
       "    .dataframe tbody tr th {\n",
       "        vertical-align: top;\n",
       "    }\n",
       "\n",
       "    .dataframe thead th {\n",
       "        text-align: right;\n",
       "    }\n",
       "</style>\n",
       "<table border=\"1\" class=\"dataframe\">\n",
       "  <thead>\n",
       "    <tr style=\"text-align: right;\">\n",
       "      <th></th>\n",
       "      <th>Algoritmo</th>\n",
       "      <th>Numero dias</th>\n",
       "      <th>Coste</th>\n",
       "    </tr>\n",
       "  </thead>\n",
       "  <tbody>\n",
       "    <tr>\n",
       "      <th>0</th>\n",
       "      <td>naïve</td>\n",
       "      <td>5</td>\n",
       "      <td>34</td>\n",
       "    </tr>\n",
       "    <tr>\n",
       "      <th>1</th>\n",
       "      <td>voraz</td>\n",
       "      <td>4</td>\n",
       "      <td>30</td>\n",
       "    </tr>\n",
       "    <tr>\n",
       "      <th>2</th>\n",
       "      <td>voraz2</td>\n",
       "      <td>4</td>\n",
       "      <td>30</td>\n",
       "    </tr>\n",
       "    <tr>\n",
       "      <th>3</th>\n",
       "      <td>voraz_experto</td>\n",
       "      <td>4</td>\n",
       "      <td>26</td>\n",
       "    </tr>\n",
       "  </tbody>\n",
       "</table>\n",
       "</div>"
      ],
      "text/plain": [
       "       Algoritmo  Numero dias  Coste\n",
       "0          naïve            5     34\n",
       "1          voraz            4     30\n",
       "2         voraz2            4     30\n",
       "3  voraz_experto            4     26"
      ]
     },
     "execution_count": 579,
     "metadata": {},
     "output_type": "execute_result"
    }
   ],
   "source": [
    "df2.loc[df2.shape[0]] = [\"voraz_experto\", len(dias_voraz_experto), coste_voraz_experto]\n",
    "df2"
   ]
  },
  {
   "cell_type": "markdown",
   "metadata": {},
   "source": [
    "Creo que la utilización de este punto de partida ha sido muy acertado. Está claro que la forma en la que he implementado la voracidad está muy condicionada por el punto de partida."
   ]
  },
  {
   "cell_type": "markdown",
   "metadata": {},
   "source": [
    "## Aproximación voraz multiarranque\n",
    "Esta aproximación es añternativa a la que he denominado \"voraz2\", ya que en lugar de ordenar de forma intencionada las sesiones con un determinado criterio, voy a buscar otros puntos de partida utilizando un multiarranque barajando el orden de inicio de las sesiones"
   ]
  },
  {
   "cell_type": "code",
   "execution_count": 583,
   "metadata": {
    "tags": []
   },
   "outputs": [],
   "source": [
    "def algoritmo_multiarranque(df, sesiones, intentos, max_dias = 5):\n",
    "    dias_voras_multi, coste_voraz_multi = dias_naive, coste_naive # :TODO: Chequear si pasarlo como parámetro\n",
    "    for i in range(intentos):\n",
    "        sesiones_aux = sesiones.copy()\n",
    "        random.shuffle(sesiones_aux)\n",
    "        logging.debug(f\"Orden sesiones: {sesiones_aux}\")\n",
    "        dias_aux, (info_aux, coste_aux) = algoritmo_basico(df, sesiones_aux)\n",
    "        logging.debug(f\"Coste voraz: {coste_aux}\")\n",
    "        if coste_aux < coste_voraz_multi:\n",
    "            dias_voras_multi, (info_voraz_multi, coste_voraz_multi) = dias_aux, (info_aux, coste_aux)\n",
    "            \n",
    "    return (dias_voras_multi, (info_voraz_multi, coste_voraz_multi))"
   ]
  },
  {
   "cell_type": "code",
   "execution_count": 584,
   "metadata": {
    "tags": []
   },
   "outputs": [
    {
     "name": "stdout",
     "output_type": "stream",
     "text": [
      "Dia: 1\n",
      "Sesiones: [26, 11, 2, 8, 14, 20, 10, 27, 5, 24, 21, 3, 16]\n",
      "Uso actores: [6.0, 5.0, 6.0, 5.0, 6.0, 5.0, 1.0, 3.0, 2.0, 1.0]\n",
      "Coste día: 10\n",
      "\n",
      "Dia: 2\n",
      "Sesiones: [17, 22, 12, 29, 19, 23, 18]\n",
      "Uso actores: [6.0, 2.0, 6.0, 2.0, 1.0, 3.0, 0.0, 0.0, 0.0, 0.0]\n",
      "Coste día: 6\n",
      "\n",
      "Dia: 3\n",
      "Sesiones: [28, 6, 4, 25, 15, 9]\n",
      "Uso actores: [6.0, 5.0, 0.0, 4.0, 1.0, 0.0, 2.0, 1.0, 0.0, 1.0]\n",
      "Coste día: 7\n",
      "\n",
      "Dia: 4\n",
      "Sesiones: [30, 1, 7, 13]\n",
      "Uso actores: [4.0, 2.0, 1.0, 4.0, 3.0, 0.0, 0.0, 0.0, 0.0, 0.0]\n",
      "Coste día: 5\n",
      "\n",
      "Solucion: [[26, 11, 2, 8, 14, 20, 10, 27, 5, 24, 21, 3, 16], [17, 22, 12, 29, 19, 23, 18], [28, 6, 4, 25, 15, 9], [30, 1, 7, 13]]\n",
      "Coste total: 28\n"
     ]
    }
   ],
   "source": [
    "sesiones = list(df.index)\n",
    "dias_voraz_multi, (info_dias_voraz_multi, coste_voraz_multi) = algoritmo_multiarranque(df, sesiones, 20)\n",
    "print_solucion(df, dias_voraz_multi, coste_voraz_multi, info_dias_voraz_multi, show_expanded_solution = show_expanded_solution)"
   ]
  },
  {
   "cell_type": "code",
   "execution_count": 585,
   "metadata": {
    "tags": []
   },
   "outputs": [
    {
     "data": {
      "text/html": [
       "<div>\n",
       "<style scoped>\n",
       "    .dataframe tbody tr th:only-of-type {\n",
       "        vertical-align: middle;\n",
       "    }\n",
       "\n",
       "    .dataframe tbody tr th {\n",
       "        vertical-align: top;\n",
       "    }\n",
       "\n",
       "    .dataframe thead th {\n",
       "        text-align: right;\n",
       "    }\n",
       "</style>\n",
       "<table border=\"1\" class=\"dataframe\">\n",
       "  <thead>\n",
       "    <tr style=\"text-align: right;\">\n",
       "      <th></th>\n",
       "      <th>Algoritmo</th>\n",
       "      <th>Numero dias</th>\n",
       "      <th>Coste</th>\n",
       "    </tr>\n",
       "  </thead>\n",
       "  <tbody>\n",
       "    <tr>\n",
       "      <th>0</th>\n",
       "      <td>naïve</td>\n",
       "      <td>5</td>\n",
       "      <td>34</td>\n",
       "    </tr>\n",
       "    <tr>\n",
       "      <th>1</th>\n",
       "      <td>voraz</td>\n",
       "      <td>4</td>\n",
       "      <td>30</td>\n",
       "    </tr>\n",
       "    <tr>\n",
       "      <th>2</th>\n",
       "      <td>voraz2</td>\n",
       "      <td>4</td>\n",
       "      <td>30</td>\n",
       "    </tr>\n",
       "    <tr>\n",
       "      <th>3</th>\n",
       "      <td>voraz_experto</td>\n",
       "      <td>4</td>\n",
       "      <td>26</td>\n",
       "    </tr>\n",
       "    <tr>\n",
       "      <th>4</th>\n",
       "      <td>voraz_multi</td>\n",
       "      <td>4</td>\n",
       "      <td>29</td>\n",
       "    </tr>\n",
       "    <tr>\n",
       "      <th>5</th>\n",
       "      <td>voraz_multi</td>\n",
       "      <td>4</td>\n",
       "      <td>28</td>\n",
       "    </tr>\n",
       "  </tbody>\n",
       "</table>\n",
       "</div>"
      ],
      "text/plain": [
       "       Algoritmo  Numero dias  Coste\n",
       "0          naïve            5     34\n",
       "1          voraz            4     30\n",
       "2         voraz2            4     30\n",
       "3  voraz_experto            4     26\n",
       "4    voraz_multi            4     29\n",
       "5    voraz_multi            4     28"
      ]
     },
     "execution_count": 585,
     "metadata": {},
     "output_type": "execute_result"
    }
   ],
   "source": [
    "df2.loc[df2.shape[0]] = [\"voraz_multi\", len(dias_voraz_multi), coste_voraz_multi]\n",
    "df2"
   ]
  },
  {
   "cell_type": "markdown",
   "metadata": {},
   "source": [
    "Ni siquiera con un número \"alto\" de arranques (200) consigo resultados mejores que los de la ordenación inicial dirigida que he llamado \"voraz2\". En el fondo tiene sentido, ya que estoy permutando 30 elementos, por lo que el espacio de posibilidades es 30! La posibilidad de encontrarme con una ordenación inicial interesante es mínima"
   ]
  },
  {
   "cell_type": "markdown",
   "metadata": {},
   "source": [
    "## Aproximación con búsqueda local de actores\n",
    "Como he mencionado antes al reordenar las secuencias según el uso de actores, he conseguido mejores resultados con una ordenación que no era exactamente la que habría sido \"lógica\" usando una ordenación por uso de actores. Sin embargo, curiosamente la que he usado al final podría haberse obtenido como una exploración local de la otra.\n",
    "\n",
    "Voy a explorar algo más esa idea implementando un algoritmo de búsqueda local en ese sentido. Voy a dejar que se intercambien actores con una o dos posiciones de diferencia con respecto al orden inicial. "
   ]
  },
  {
   "cell_type": "code",
   "execution_count": 586,
   "metadata": {
    "tags": []
   },
   "outputs": [],
   "source": [
    "def busqueda_local_actores(df, sesiones, orden_actores, coste_sesion = coste_sesion_voraz):\n",
    "    sesiones_copy = sesiones.copy()\n",
    "    sesiones_reordenadas = reordenar_sesiones(sesiones_copy, orden_actores)\n",
    "    dias_voraz_ref, (info_dias_voraz_ref, coste_voraz_ref) = algoritmo_basico(df, sesiones_reordenadas, coste_sesion = coste_sesion)\n",
    "    for j in range(2):\n",
    "        for i in range(len(orden_actores)-1-j):\n",
    "            orden_aux = orden_actores.copy()\n",
    "            orden_aux[i], orden_aux[i+1+j] = orden_aux[i+1+j], orden_aux[i]\n",
    "            sesiones_copy = sesiones.copy()\n",
    "            sesiones_reordenadas = reordenar_sesiones(sesiones_copy, orden_aux)\n",
    "            dias_voraz_aux, (info_dias_voraz_aux, coste_voraz_aux) = algoritmo_basico(df, sesiones_reordenadas, coste_sesion = coste_sesion)\n",
    "            if coste_voraz_aux < coste_voraz_ref:\n",
    "                print(f\"Nuevo orden de actores: {orden_aux}\")\n",
    "                dias_voraz_ref, (info_dias_voraz_ref, coste_voraz_ref) = dias_voraz_aux, (info_dias_voraz_aux, coste_voraz_aux)\n",
    "                orden_actores = orden_aux\n",
    "    return (dias_voraz_ref, (info_dias_voraz_ref, coste_voraz_ref))"
   ]
  },
  {
   "cell_type": "code",
   "execution_count": 587,
   "metadata": {
    "tags": []
   },
   "outputs": [
    {
     "name": "stdout",
     "output_type": "stream",
     "text": [
      "Nuevo orden de actores: [10, 9, 7, 8, 6, 5, 4, 3, 2, 1]\n",
      "Nuevo orden de actores: [10, 9, 7, 8, 6, 5, 4, 1, 2, 3]\n",
      "Dia: 1\n",
      "Sesiones: [16, 25, 10, 26, 3, 15, 4, 11, 21, 18, 24, 27, 2]\n",
      "Uso actores: [6.0, 6.0, 5.0, 4.0, 5.0, 4.0, 3.0, 3.0, 2.0, 2.0]\n",
      "Coste día: 10\n",
      "\n",
      "Dia: 2\n",
      "Sesiones: [8, 12, 14, 29, 1, 6, 5]\n",
      "Uso actores: [6.0, 5.0, 3.0, 4.0, 3.0, 4.0, 0.0, 1.0, 0.0, 0.0]\n",
      "Coste día: 7\n",
      "\n",
      "Dia: 3\n",
      "Sesiones: [13, 20, 7, 22, 28, 9]\n",
      "Uso actores: [6.0, 3.0, 2.0, 6.0, 3.0, 0.0, 0.0, 0.0, 0.0, 0.0]\n",
      "Coste día: 5\n",
      "\n",
      "Dia: 4\n",
      "Sesiones: [19, 30, 17]\n",
      "Uso actores: [3.0, 0.0, 2.0, 1.0, 0.0, 0.0, 0.0, 0.0, 0.0, 0.0]\n",
      "Coste día: 3\n",
      "\n",
      "Solucion: [[16, 25, 10, 26, 3, 15, 4, 11, 21, 18, 24, 27, 2], [8, 12, 14, 29, 1, 6, 5], [13, 20, 7, 22, 28, 9], [19, 30, 17]]\n",
      "Coste total: 25\n"
     ]
    }
   ],
   "source": [
    "sesiones = list(df.index)\n",
    "orden_actores = [10, 9, 7, 8, 6, 5, 3, 4, 2, 1]\n",
    "dias_local, (info_dias_local, coste_local) = busqueda_local_actores(df, sesiones, orden_actores)\n",
    "print_solucion(df, dias_local, coste_local, info_dias_local, show_expanded_solution = show_expanded_solution)"
   ]
  },
  {
   "cell_type": "code",
   "execution_count": 588,
   "metadata": {
    "tags": []
   },
   "outputs": [
    {
     "data": {
      "text/html": [
       "<div>\n",
       "<style scoped>\n",
       "    .dataframe tbody tr th:only-of-type {\n",
       "        vertical-align: middle;\n",
       "    }\n",
       "\n",
       "    .dataframe tbody tr th {\n",
       "        vertical-align: top;\n",
       "    }\n",
       "\n",
       "    .dataframe thead th {\n",
       "        text-align: right;\n",
       "    }\n",
       "</style>\n",
       "<table border=\"1\" class=\"dataframe\">\n",
       "  <thead>\n",
       "    <tr style=\"text-align: right;\">\n",
       "      <th></th>\n",
       "      <th>Algoritmo</th>\n",
       "      <th>Numero dias</th>\n",
       "      <th>Coste</th>\n",
       "    </tr>\n",
       "  </thead>\n",
       "  <tbody>\n",
       "    <tr>\n",
       "      <th>0</th>\n",
       "      <td>naïve</td>\n",
       "      <td>5</td>\n",
       "      <td>34</td>\n",
       "    </tr>\n",
       "    <tr>\n",
       "      <th>1</th>\n",
       "      <td>voraz</td>\n",
       "      <td>4</td>\n",
       "      <td>30</td>\n",
       "    </tr>\n",
       "    <tr>\n",
       "      <th>2</th>\n",
       "      <td>voraz2</td>\n",
       "      <td>4</td>\n",
       "      <td>30</td>\n",
       "    </tr>\n",
       "    <tr>\n",
       "      <th>3</th>\n",
       "      <td>voraz_experto</td>\n",
       "      <td>4</td>\n",
       "      <td>26</td>\n",
       "    </tr>\n",
       "    <tr>\n",
       "      <th>4</th>\n",
       "      <td>voraz_multi</td>\n",
       "      <td>4</td>\n",
       "      <td>29</td>\n",
       "    </tr>\n",
       "    <tr>\n",
       "      <th>5</th>\n",
       "      <td>voraz_multi</td>\n",
       "      <td>4</td>\n",
       "      <td>28</td>\n",
       "    </tr>\n",
       "    <tr>\n",
       "      <th>6</th>\n",
       "      <td>local_actores</td>\n",
       "      <td>4</td>\n",
       "      <td>25</td>\n",
       "    </tr>\n",
       "  </tbody>\n",
       "</table>\n",
       "</div>"
      ],
      "text/plain": [
       "       Algoritmo  Numero dias  Coste\n",
       "0          naïve            5     34\n",
       "1          voraz            4     30\n",
       "2         voraz2            4     30\n",
       "3  voraz_experto            4     26\n",
       "4    voraz_multi            4     29\n",
       "5    voraz_multi            4     28\n",
       "6  local_actores            4     25"
      ]
     },
     "execution_count": 588,
     "metadata": {},
     "output_type": "execute_result"
    }
   ],
   "source": [
    "df2.loc[df2.shape[0]] = [\"local_actores\", len(dias_local), coste_local]\n",
    "df2"
   ]
  },
  {
   "cell_type": "markdown",
   "metadata": {},
   "source": [
    "Con un arranque desde un punto inteligente + algortimo voraz + búsqueda local hemos conseguido mejorar del coste 34 de la solución \"naïve\" a 25. Sin embargo, seguimos sin llegar al míninimo coste hipotético.\n",
    "\n",
    "En cualquier momento puede ser interesante analizar para qué actores no hemos logrado el mínimo coste hipotético."
   ]
  },
  {
   "cell_type": "code",
   "execution_count": 589,
   "metadata": {
    "tags": []
   },
   "outputs": [
    {
     "name": "stdout",
     "output_type": "stream",
     "text": [
      "Hemos logrado el coste mínimo para el actor número 1. Coste: 4\n",
      "Hemos logrado el coste mínimo para el actor número 2. Coste: 3\n",
      "Para el actor 3 hemos logrado un coste: 4. El mínimo hipotético sería 3\n",
      "Para el actor 4 hemos logrado un coste: 4. El mínimo hipotético sería 3\n",
      "Para el actor 5 hemos logrado un coste: 3. El mínimo hipotético sería 2\n",
      "Hemos logrado el coste mínimo para el actor número 6. Coste: 2\n",
      "Hemos logrado el coste mínimo para el actor número 7. Coste: 1\n",
      "Para el actor 8 hemos logrado un coste: 2. El mínimo hipotético sería 1\n",
      "Hemos logrado el coste mínimo para el actor número 9. Coste: 1\n",
      "Hemos logrado el coste mínimo para el actor número 10. Coste: 1\n"
     ]
    }
   ],
   "source": [
    "analyze_solution(df, info_dias_local)"
   ]
  },
  {
   "cell_type": "markdown",
   "metadata": {},
   "source": [
    "En este punto me planteo tres caminos para seguir:\n",
    "1. Nueva búsqueda local centrada en los actores para los que no he conseguido el mínimo.\n",
    "2. Definir una nueva función de voracidad usando una métrica de distancia diferente de la actual (que básicamente con el reordenamiento de sesiones no deja de ser un relleno primero los que tienen menos carga)\n",
    "3. El mejor algoritmo hasta el momento es determinista. La inclusión de diversificación a la hora de seleccionar el punto de partida no ha ayudado, pero me pregunto si podemos ganar algo aleatorizando un tanto la función de voracidad.\n",
    "\n",
    "En el siguiente apartado voy a tratar de abordar 2 y 3 al mismo tiempo mediante un grasp."
   ]
  },
  {
   "cell_type": "markdown",
   "metadata": {},
   "source": [
    "## GRASP + nueva métrica de distancia"
   ]
  },
  {
   "cell_type": "markdown",
   "metadata": {},
   "source": [
    "Para la función de distancia voy a potenciar la posibilidad de ir completando las sesiones de los actores, por tanto, para cada sesión voy a considerar como coste el coste residual del actor que se quedaría con menos sesiones pendientes. Para evitar puntos muertos, el coste de una sesión va a ser 1000 si no es factible.\n",
    "\n",
    "Para el grasp lo que voy a hacer es seleccionar el número de mejores opciones de coste entre las cuales quiero aleatorizar la selección."
   ]
  },
  {
   "cell_type": "code",
   "execution_count": null,
   "metadata": {},
   "outputs": [],
   "source": [
    "def distancia(df, dia, sesion):\n",
    "    "
   ]
  },
  {
   "cell_type": "code",
   "execution_count": null,
   "metadata": {},
   "outputs": [],
   "source": [
    "def solucion_voraz2(df, sesiones, max_dias = 5):\n",
    "    dias = []\n",
    "    to_remove = []\n",
    "    for i in range(max_dias):\n",
    "        logging.debug(f\"Sesiones: {sesiones}\")\n",
    "        logging.debug(f\"Usadas en iteracion anterior: {to_remove}\")\n",
    "        for z in to_remove:\n",
    "            sesiones.remove(z)\n",
    "        to_remove = []\n",
    "        while add_new_ses\n",
    "        for j in sesiones:\n",
    "            if len(dias) < i+1:\n",
    "                dias.append([j])\n",
    "                to_remove.append(j)\n",
    "            else:\n",
    "                if chequear_factibilidad(df, dias[i], j):\n",
    "                    dias[i].append(j)\n",
    "                    to_remove.append(j)\n",
    "    \n",
    "    logging.debug(f\"Solucion: {dias}\")\n",
    "              \n",
    "    return (dias, coste_total(df, dias))"
   ]
  },
  {
   "cell_type": "code",
   "execution_count": null,
   "metadata": {},
   "outputs": [],
   "source": [
    "sesiones = list(df.index)\n",
    "orden_actores = [10, 9, 7, 8, 6, 5, 3, 4, 2, 1]\n",
    "dias_local, (info_dias_local, coste_local) = busqueda_local_actores(df, sesiones, orden_actores, func_voraz = solucion_voraz2)\n",
    "print_solucion(df, dias_local, coste_local, info_dias_local, show_expanded_solution = show_expanded_solution)"
   ]
  },
  {
   "cell_type": "markdown",
   "metadata": {},
   "source": [
    "## Conclusiones"
   ]
  },
  {
   "cell_type": "code",
   "execution_count": 273,
   "metadata": {},
   "outputs": [
    {
     "data": {
      "image/png": "[encoded data removed]",
      "text/plain": [
       "<Figure size 432x288 with 1 Axes>"
      ]
     },
     "metadata": {
      "needs_background": "light"
     },
     "output_type": "display_data"
    }
   ],
   "source": [
    "ax = sns.barplot(data = df2.sort_values(by=\"Coste\", ascending=False), x=\"Algoritmo\", y=\"Coste\")\n",
    "ax.hlines(y=coste_minimo, xmin=-1, xmax=5, linewidth=2, linestyle=\"--\", color='r', label = \"Hipotético coste mínimo\")\n",
    "clean_plot(ax, \"Algoritmo\", \"Coste\", \"Coste total de sesiones según algoritmo\")\n",
    "plt.show();"
   ]
  },
  {
   "cell_type": "code",
   "execution_count": null,
   "metadata": {},
   "outputs": [],
   "source": []
  }
 ],
 "metadata": {
  "colab": {
   "authorship_tag": "ABX9TyPeizotSgBKTL+0Xv2iIQzd",
   "include_colab_link": true,
   "provenance": []
  },
  "kernelspec": {
   "display_name": "Python 3 (ipykernel)",
   "language": "python",
   "name": "python3"
  },
  "language_info": {
   "codemirror_mode": {
    "name": "ipython",
    "version": 3
   },
   "file_extension": ".py",
   "mimetype": "text/x-python",
   "name": "python",
   "nbconvert_exporter": "python",
   "pygments_lexer": "ipython3",
   "version": "3.10.9"
  }
 },
 "nbformat": 4,
 "nbformat_minor": 4
}
