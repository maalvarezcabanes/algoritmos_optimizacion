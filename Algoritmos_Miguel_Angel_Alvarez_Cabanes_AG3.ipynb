{
 "cells": [
  {
   "cell_type": "markdown",
   "metadata": {
    "id": "C4zOnRumto2-"
   },
   "source": [
    "# Actividad Guiada 3\n",
    "## Autor\n",
    "Miguel Ángel Álvarez Cabanes\n",
    "## Github\n",
    "https://github.com/maalvarezcabanes/algoritmos_optimizacion"
   ]
  },
  {
   "cell_type": "markdown",
   "metadata": {},
   "source": [
    "## Importación paquetes y funciones auxiliares"
   ]
  },
  {
   "cell_type": "code",
   "execution_count": 61,
   "metadata": {
    "tags": []
   },
   "outputs": [],
   "source": [
    "import tsplib95\n",
    "import os\n",
    "import math\n",
    "import random"
   ]
  },
  {
   "cell_type": "code",
   "execution_count": 62,
   "metadata": {
    "tags": []
   },
   "outputs": [],
   "source": [
    "def clean_plot(ax, xlabel, ylabel, title, legend = True, rotate = 45):\n",
    "    ax.spines.right.set_visible(False)\n",
    "    ax.spines.top.set_visible(False)\n",
    "    ax.set_xlabel(xlabel)\n",
    "    ax.set_ylabel(ylabel)\n",
    "    ax.set_title(title)\n",
    "    if legend:\n",
    "        ax.legend(bbox_to_anchor=(1.2, 1))\n",
    "    if rotate:\n",
    "        ax.tick_params(axis='x', labelrotation = rotate)"
   ]
  },
  {
   "cell_type": "code",
   "execution_count": 63,
   "metadata": {
    "tags": []
   },
   "outputs": [],
   "source": [
    "file = \"swiss42.tsp\"\n",
    "ffile = os.path.join(\".\", file)\n",
    "\n",
    "problem = tsplib95.load(ffile)"
   ]
  },
  {
   "cell_type": "code",
   "execution_count": 80,
   "metadata": {
    "tags": []
   },
   "outputs": [],
   "source": [
    "def crear_solucion(nodos):\n",
    "    ''' Creación de una solución aleatoria '''\n",
    "    return [nodos[0]] +  random.sample(nodos[1:], len(nodos) - 1)\n",
    "\n",
    "def distancia(a,b, problem):\n",
    "    ''' Distancia entre dos nodos ''' \n",
    "    return problem.get_weight(a,b)\n",
    "\n",
    "def distancia_total(solucion, problem):\n",
    "    ''' Distancia total de una solución '''\n",
    "    nodo_previo = solucion[0]\n",
    "    for i in solucion:\n",
    "        if i == nodo_previo:\n",
    "            distancia_total = 0\n",
    "        else:\n",
    "            distancia_total += distancia(nodo_previo, i, problem)\n",
    "            nodo_previo = i\n",
    "    return distancia_total + distancia(solucion[-1], solucion[0], problem)"
   ]
  },
  {
   "cell_type": "markdown",
   "metadata": {},
   "source": [
    "## Búsqueda aleatoria"
   ]
  },
  {
   "cell_type": "code",
   "execution_count": 81,
   "metadata": {
    "tags": []
   },
   "outputs": [],
   "source": [
    "def busqueda_aleatoria(problem, N):\n",
    "    ''' N es el numero de iteraciones '''\n",
    "    nodos = list(problem.get_nodes())\n",
    "\n",
    "    mejor_solucion = []\n",
    "    mejor_distancia = float('inf')                  #Inicializamos con un valor alto\n",
    "\n",
    "    for i in range(N):                                #Criterio de parada: repetir N veces pero podemos incluir otros\n",
    "        solucion = crear_solucion(nodos)                #Genera una solucion aleatoria\n",
    "        distancia = distancia_total(solucion, problem)  #Calcula el valor objetivo(distancia total)\n",
    "\n",
    "        if distancia < mejor_distancia:                 #Compara con la mejor obtenida hasta ahora\n",
    "            mejor_solucion = solucion\n",
    "            mejor_distancia = distancia\n",
    "\n",
    "    return (mejor_solucion, mejor_distancia)"
   ]
  },
  {
   "cell_type": "code",
   "execution_count": 82,
   "metadata": {
    "tags": []
   },
   "outputs": [
    {
     "name": "stdout",
     "output_type": "stream",
     "text": [
      "La mejor solución es: [0, 39, 21, 24, 27, 32, 29, 40, 22, 38, 25, 15, 37, 31, 5, 12, 11, 8, 18, 3, 2, 1, 4, 6, 41, 16, 10, 23, 30, 35, 20, 14, 26, 19, 7, 33, 9, 28, 17, 34, 36, 13] con mejor distancia 3691\n"
     ]
    }
   ],
   "source": [
    "solucion_aleatoria, distancia_aleatoria = busqueda_aleatoria(problem, 10000)\n",
    "print(f\"La mejor solución es: {solucion_aleatoria} con mejor distancia {distancia_aleatoria}\")"
   ]
  },
  {
   "cell_type": "markdown",
   "metadata": {},
   "source": [
    "## Búsqueda local"
   ]
  },
  {
   "cell_type": "code",
   "execution_count": 83,
   "metadata": {
    "tags": []
   },
   "outputs": [
    {
     "name": "stdout",
     "output_type": "stream",
     "text": [
      "Distancia Solucion Inicial: 3691\n",
      "Distancia Mejor Solucion Local: 3336\n"
     ]
    }
   ],
   "source": [
    "def genera_vecina(solucion):\n",
    "    ''' Generador de soluciones vecinas con: 2-opt (intercambiar 2 nodos) Si hay N nodos se generan (N-1)x(N-2)/2 soluciones\n",
    "    Se puede modificar para aplicar otros generadores distintos que 2-opt'''\n",
    "\n",
    "    mejor_solucion = solucion\n",
    "    mejor_distancia = distancia_total(mejor_solucion, problem)\n",
    "    for i in range(1,len(solucion)-1):          #Recorremos todos los nodos en bucle doble para evaluar todos los intercambios 2-opt\n",
    "        for j in range(i+1, len(solucion)):\n",
    "            vecina = solucion.copy()\n",
    "            vecina[i], vecina[j] = vecina[j], vecina[i]\n",
    "\n",
    "            #Se evalua la nueva solución ...\n",
    "            distancia_vecina = distancia_total(vecina, problem)\n",
    "\n",
    "            #... para guardarla si mejora las anteriores\n",
    "            if distancia_vecina <= mejor_distancia:\n",
    "                mejor_distancia = distancia_vecina\n",
    "                mejor_solucion = vecina\n",
    "\n",
    "    return (mejor_solucion, mejor_distancia)\n",
    "\n",
    "print(f\"Distancia Solucion Inicial: {distancia_aleatoria}\")\n",
    "\n",
    "solucion_vecina, distancia_vecina = genera_vecina(solucion_aleatoria)\n",
    "print(f\"Distancia Mejor Solucion Local: {distancia_vecina}\")"
   ]
  },
  {
   "cell_type": "code",
   "execution_count": 86,
   "metadata": {
    "tags": []
   },
   "outputs": [
    {
     "name": "stdout",
     "output_type": "stream",
     "text": [
      "En la iteracion 35, la mejor solución encontrada es: [0, 1, 6, 4, 3, 27, 2, 39, 24, 40, 21, 23, 41, 34, 33, 20, 32, 26, 5, 13, 19, 14, 16, 15, 37, 36, 35, 31, 17, 7, 10, 25, 11, 12, 18, 28, 29, 30, 38, 22, 9, 8] con distancia 1783\n"
     ]
    }
   ],
   "source": [
    "def busqueda_local(problem):\n",
    "    mejor_solucion = []\n",
    "\n",
    "    #Generar una solucion inicial de referencia(aleatoria)\n",
    "    solucion_referencia = crear_solucion(nodos)\n",
    "    mejor_distancia = distancia_total(solucion_referencia, problem)\n",
    "\n",
    "    iteracion=0             #Un contador para saber las iteraciones que hacemos\n",
    "    while(1):\n",
    "        iteracion +=1         #Incrementamos el contador\n",
    "    \n",
    "        #Obtenemos la mejor vecina ...\n",
    "        vecina, distancia_vecina = genera_vecina(solucion_referencia)\n",
    "\n",
    "        #Si no mejoramos hay que terminar. Hemos llegado a un minimo local(según nuestro operador de vencindad 2-opt)\n",
    "        if distancia_vecina < mejor_distancia:\n",
    "            mejor_solucion, mejor_distancia = vecina, distancia_vecina  #Guarda la mejor solución encontrada\n",
    "        else:\n",
    "            return (mejor_solucion, mejor_distancia, iteracion)\n",
    "\n",
    "        solucion_referencia = vecina\n",
    "\n",
    "solucion_local, distancia_local, iteracion = busqueda_local(problem)\n",
    "print(f\"En la iteracion {iteracion}, la mejor solución encontrada es: {solucion_local} con distancia {distancia_local}\")"
   ]
  },
  {
   "cell_type": "code",
   "execution_count": null,
   "metadata": {},
   "outputs": [],
   "source": []
  }
 ],
 "metadata": {
  "colab": {
   "authorship_tag": "ABX9TyPeizotSgBKTL+0Xv2iIQzd",
   "include_colab_link": true,
   "provenance": []
  },
  "kernelspec": {
   "display_name": "Python 3 (ipykernel)",
   "language": "python",
   "name": "python3"
  },
  "language_info": {
   "codemirror_mode": {
    "name": "ipython",
    "version": 3
   },
   "file_extension": ".py",
   "mimetype": "text/x-python",
   "name": "python",
   "nbconvert_exporter": "python",
   "pygments_lexer": "ipython3",
   "version": "3.10.9"
  }
 },
 "nbformat": 4,
 "nbformat_minor": 4
}
