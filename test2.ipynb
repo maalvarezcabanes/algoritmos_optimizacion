{
  "nbformat": 4,
  "nbformat_minor": 0,
  "metadata": {
    "colab": {
      "provenance": [],
      "authorship_tag": "ABX9TyM+D/Ba6Fqzb/jTot6uS9GD"
    },
    "kernelspec": {
      "name": "python3",
      "display_name": "Python 3"
    },
    "language_info": {
      "name": "python"
    }
  },
  "cells": [
    {
      "cell_type": "code",
      "execution_count": 1,
      "metadata": {
        "colab": {
          "base_uri": "https://localhost:8080/"
        },
        "id": "woZS3KyM1ISe",
        "outputId": "79471769-7646-43d5-de83-4d6cef604ab4"
      },
      "outputs": [
        {
          "output_type": "execute_result",
          "data": {
            "text/plain": [
              "9"
            ]
          },
          "metadata": {},
          "execution_count": 1
        }
      ],
      "source": [
        "3+6"
      ]
    },
    {
      "cell_type": "code",
      "source": [
        "a=7"
      ],
      "metadata": {
        "id": "UFweWv221tHb"
      },
      "execution_count": 2,
      "outputs": []
    },
    {
      "cell_type": "code",
      "source": [],
      "metadata": {
        "id": "GnncU4mU1LWg"
      },
      "execution_count": null,
      "outputs": []
    }
  ]
}