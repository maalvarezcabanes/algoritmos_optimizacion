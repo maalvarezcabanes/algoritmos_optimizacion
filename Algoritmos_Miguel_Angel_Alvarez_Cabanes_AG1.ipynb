{
  "nbformat": 4,
  "nbformat_minor": 0,
  "metadata": {
    "colab": {
      "provenance": [],
      "authorship_tag": "ABX9TyPeizotSgBKTL+0Xv2iIQzd",
      "include_colab_link": true
    },
    "kernelspec": {
      "name": "python3",
      "display_name": "Python 3"
    },
    "language_info": {
      "name": "python"
    }
  },
  "cells": [
    {
      "cell_type": "markdown",
      "metadata": {
        "id": "view-in-github",
        "colab_type": "text"
      },
      "source": [
        "<a href=\"https://colab.research.google.com/github/maalvarezcabanes/algoritmos_optimizacion/blob/main/Algoritmos_Miguel_Angel_Alvarez_Cabanes_AG1.ipynb\" target=\"_parent\"><img src=\"https://colab.research.google.com/assets/colab-badge.svg\" alt=\"Open In Colab\"/></a>"
      ]
    },
    {
      "cell_type": "code",
      "execution_count": null,
      "metadata": {
        "id": "l2V7wHOgtJQl"
      },
      "outputs": [],
      "source": []
    },
    {
      "cell_type": "markdown",
      "source": [
        "# Actividad Guiada 1\n",
        "# Miguel Ángel Álvarez Cabanes\n",
        "#"
      ],
      "metadata": {
        "id": "C4zOnRumto2-"
      }
    }
  ]
}